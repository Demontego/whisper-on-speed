{
 "cells": [
  {
   "cell_type": "code",
   "execution_count": 1,
   "metadata": {},
   "outputs": [
    {
     "name": "stdout",
     "output_type": "stream",
     "text": [
      "env: TORCHDYNAMO_VERBOSE=1\n"
     ]
    }
   ],
   "source": [
    "%env TORCHDYNAMO_VERBOSE=1"
   ]
  },
  {
   "cell_type": "code",
   "execution_count": 2,
   "metadata": {},
   "outputs": [
    {
     "name": "stderr",
     "output_type": "stream",
     "text": [
      "/home/demontego/whisper-on-speed/.venv/lib/python3.13/site-packages/tqdm/auto.py:21: TqdmWarning: IProgress not found. Please update jupyter and ipywidgets. See https://ipywidgets.readthedocs.io/en/stable/user_install.html\n",
      "  from .autonotebook import tqdm as notebook_tqdm\n"
     ]
    }
   ],
   "source": [
    "import librosa\n",
    "import torch\n",
    "from transformers import AutoModelForSpeechSeq2Seq, AutoProcessor\n",
    "from transformers.pipelines.automatic_speech_recognition import AutomaticSpeechRecognitionPipeline\n",
    "\n",
    "torch.set_float32_matmul_precision(\"high\")"
   ]
  },
  {
   "cell_type": "code",
   "execution_count": 3,
   "metadata": {},
   "outputs": [],
   "source": [
    "device = \"cuda\" if torch.cuda.is_available() else \"cpu\"\n",
    "torch_dtype = torch.float16 if torch.cuda.is_available() else torch.float32"
   ]
  },
  {
   "cell_type": "code",
   "execution_count": 4,
   "metadata": {},
   "outputs": [],
   "source": [
    "model_id = \"openai/whisper-large-v3-turbo\"\n",
    "model = AutoModelForSpeechSeq2Seq.from_pretrained(\n",
    "    model_id, torch_dtype=torch_dtype, low_cpu_mem_usage=True,\n",
    ").eval().cuda()\n",
    "processor = AutoProcessor.from_pretrained(model_id)"
   ]
  },
  {
   "cell_type": "code",
   "execution_count": 12,
   "metadata": {},
   "outputs": [],
   "source": [
    "audio, _ = librosa.load(\"/home/demontego/whisper/tests/test_data/output.wav\", sr=16000)\n",
    "input_features = processor(audio, sampling_rate=16000, return_tensors=\"pt\").input_features\n",
    "input_features = input_features.to(torch.float16).cuda()"
   ]
  },
  {
   "cell_type": "code",
   "execution_count": 6,
   "metadata": {},
   "outputs": [],
   "source": [
    "model.generation_config.cache_implementation = \"static\"\n",
    "model.generation_config.max_new_tokens = 324\n",
    "model.forward = torch.compile(model.forward, mode=\"reduce-overhead\", fullgraph=True)"
   ]
  },
  {
   "cell_type": "code",
   "execution_count": 10,
   "metadata": {},
   "outputs": [
    {
     "name": "stderr",
     "output_type": "stream",
     "text": [
      "Device set to use cuda\n"
     ]
    }
   ],
   "source": [
    "pipe = AutomaticSpeechRecognitionPipeline(\n",
    "    model=model,\n",
    "    tokenizer=processor.tokenizer,\n",
    "    feature_extractor=processor.feature_extractor,\n",
    "    torch_dtype=torch.float16,\n",
    "    stride_length_s=10/6,\n",
    "    chunk_length_s=10,\n",
    "    device=device,\n",
    ")"
   ]
  },
  {
   "cell_type": "code",
   "execution_count": 8,
   "metadata": {},
   "outputs": [],
   "source": [
    "generate_kwargs = {\n",
    "    'max_new_tokens': 444,\n",
    "    'num_beams': 3,\n",
    "    'condition_on_prev_tokens': False,\n",
    "    'compression_ratio_threshold': 1.35,\n",
    "    'temperature': (0.0, 0.2, 0.4, 0.6, 0.8, 1.0),\n",
    "    'logprob_threshold': -1.0,\n",
    "}"
   ]
  },
  {
   "cell_type": "code",
   "execution_count": 13,
   "metadata": {},
   "outputs": [
    {
     "name": "stderr",
     "output_type": "stream",
     "text": [
      "/home/demontego/whisper-on-speed/.venv/lib/python3.13/site-packages/transformers/models/whisper/generation_whisper.py:573: FutureWarning: The input name `inputs` is deprecated. Please make sure to use `input_features` instead.\n",
      "  warnings.warn(\n",
      "Whisper did not predict an ending timestamp, which can happen if audio is cut off in the middle of a word. Also make sure WhisperTimeStampLogitsProcessor was used during generation.\n"
     ]
    },
    {
     "name": "stdout",
     "output_type": "stream",
     "text": [
      "{'chunks': [{'text': ' Thank you. Я читаю про дипсик и просто как индекс или '\n",
      "                     'до этого не додумались просто нам прикольная прям '\n",
      "                     'архитектуру что типа на поверхность что-то лежало.',\n",
      "             'timestamp': (0.0, 35.19)},\n",
      "            {'text': ' Там способ обучения,', 'timestamp': (35.85, 37.47)},\n",
      "            {'text': ' типа, он', 'timestamp': (37.65, 38.43)},\n",
      "            {'text': ' много раз обсуждался, но почему-то я редко видел его в '\n",
      "                     'применении',\n",
      "             'timestamp': (38.43, 53.67)},\n",
      "            {'text': ' а я знаю почему они пошли по этому пути.',\n",
      "             'timestamp': (53.67, 56.21)},\n",
      "            {'text': ' Они начали обучать давно очень модель кодинга.',\n",
      "             'timestamp': (56.49, 60.49)},\n",
      "            {'text': ' DeepSeek Coder у них была лучшая модель',\n",
      "             'timestamp': (60.71, 63.22)},\n",
      "            {'text': ' среди всех. Даже лучше, чем сейчас',\n",
      "             'timestamp': (63.22, 65.98)},\n",
      "            {'text': ' GTT.', 'timestamp': (65.98, 66.5)},\n",
      "            {'text': ' Надо еще лучше и расширили за пределы кодинга свою '\n",
      "                     'модель',\n",
      "             'timestamp': (67.58, 75.33)},\n",
      "            {'text': ' гения', 'timestamp': (75.33, 79.33)},\n",
      "            {'text': ' считаю', 'timestamp': (79.33, 81.33)},\n",
      "            {'text': ' а чё там такое считаю. А что там',\n",
      "             'timestamp': (81.33, 82.04)},\n",
      "            {'text': ' такое? Reinforcement', 'timestamp': (82.04, 83.48)},\n",
      "            {'text': ' learning как-то используется активно',\n",
      "             'timestamp': (83.48, 85.9)},\n",
      "            {'text': ' или в чем там? Да, там RL', 'timestamp': (85.9, 87.72)},\n",
      "            {'text': ' активно используется и там четыре этапа обучения идет '\n",
      "                     'вот номер эль там типа решает и первый второй этап, он '\n",
      "                     'реальный, нет модели вознаграждения, есть только '\n",
      "                     'правильные и неправильный ответ.',\n",
      "             'timestamp': (87.72, 109.67)},\n",
      "            {'text': ' Типа всякие математические задачи по химии по биологии, '\n",
      "                     'по физике,',\n",
      "             'timestamp': (109.67, 121.82)},\n",
      "            {'text': ' вот что-то такое.', 'timestamp': (122.0, 122.82)},\n",
      "            {'text': ' Это из науки.', 'timestamp': (124.6, 125.42)},\n",
      "            {'text': ' Ну, я Это финальная стадия, правильный',\n",
      "             'timestamp': (129.67, 132.41)},\n",
      "            {'text': ' и неправильный ответ.', 'timestamp': (132.41, 133.25)},\n",
      "            {'text': ' Ну да, на финальной стадии у них типа нет, на финальной '\n",
      "                     'стадии у них есть типа',\n",
      "             'timestamp': (136.95, 138.99)},\n",
      "            {'text': ' ответ от модели', 'timestamp': (138.99, 141.39)},\n",
      "            {'text': ' и его сравнивают с истинным, насколько он',\n",
      "             'timestamp': (141.39, 143.96)},\n",
      "            {'text': ' близок.', 'timestamp': (143.96, 144.56)},\n",
      "            {'text': ' И тот ответ,', 'timestamp': (146.42, 148.08)},\n",
      "            {'text': ' который самый близкий, по формуле расписывается, чтобы '\n",
      "                     'он был наиболее вероятным.',\n",
      "             'timestamp': (148.28, 153.45)},\n",
      "            {'text': ' И дальше пропускают градиенты.',\n",
      "             'timestamp': (154.53, 155.33)},\n",
      "            {'text': ' А, то есть уже потом обучают, типа, вот это, лосс и '\n",
      "                     'далее, уже дают функцию «покель».',\n",
      "             'timestamp': (160.33, 167.0)},\n",
      "            {'text': ' Ну да.', 'timestamp': (167.0, 172.87)},\n",
      "            {'text': ' Блин, ну, конечно, в этих всех темах, типа как оценить '\n",
      "                     'качество, насколько ответ...',\n",
      "             'timestamp': (178.33, None)}],\n",
      " 'text': ' Thank you. Я читаю про дипсик и просто как индекс или до этого не '\n",
      "         'додумались просто нам прикольная прям архитектуру что типа на '\n",
      "         'поверхность что-то лежало. Там способ обучения, типа, он много раз '\n",
      "         'обсуждался, но почему-то я редко видел его в применении а я знаю '\n",
      "         'почему они пошли по этому пути. Они начали обучать давно очень '\n",
      "         'модель кодинга. DeepSeek Coder у них была лучшая модель среди всех. '\n",
      "         'Даже лучше, чем сейчас GTT. Надо еще лучше и расширили за пределы '\n",
      "         'кодинга свою модель гения считаю а чё там такое считаю. А что там '\n",
      "         'такое? Reinforcement learning как-то используется активно или в чем '\n",
      "         'там? Да, там RL активно используется и там четыре этапа обучения '\n",
      "         'идет вот номер эль там типа решает и первый второй этап, он '\n",
      "         'реальный, нет модели вознаграждения, есть только правильные и '\n",
      "         'неправильный ответ. Типа всякие математические задачи по химии по '\n",
      "         'биологии, по физике, вот что-то такое. Это из науки. Ну, я Это '\n",
      "         'финальная стадия, правильный и неправильный ответ. Ну да, на '\n",
      "         'финальной стадии у них типа нет, на финальной стадии у них есть типа '\n",
      "         'ответ от модели и его сравнивают с истинным, насколько он близок. И '\n",
      "         'тот ответ, который самый близкий, по формуле расписывается, чтобы он '\n",
      "         'был наиболее вероятным. И дальше пропускают градиенты. А, то есть '\n",
      "         'уже потом обучают, типа, вот это, лосс и далее, уже дают функцию '\n",
      "         '«покель». Ну да. Блин, ну, конечно, в этих всех темах, типа как '\n",
      "         'оценить качество, насколько ответ...'}\n"
     ]
    }
   ],
   "source": [
    "result = pipe(audio, generate_kwargs=generate_kwargs, return_timestamps=True)\n",
    "from pprint import pprint\n",
    "pprint(result)"
   ]
  }
 ],
 "metadata": {
  "kernelspec": {
   "display_name": ".venv",
   "language": "python",
   "name": "python3"
  },
  "language_info": {
   "codemirror_mode": {
    "name": "ipython",
    "version": 3
   },
   "file_extension": ".py",
   "mimetype": "text/x-python",
   "name": "python",
   "nbconvert_exporter": "python",
   "pygments_lexer": "ipython3",
   "version": "3.13.1"
  }
 },
 "nbformat": 4,
 "nbformat_minor": 2
}
